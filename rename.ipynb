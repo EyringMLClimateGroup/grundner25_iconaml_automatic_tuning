{
 "cells": [
  {
   "cell_type": "code",
   "execution_count": null,
   "metadata": {},
   "outputs": [],
   "source": [
    "import os\n",
    "\n",
    "for file in os.listdir(os.path.abspath(os.path.curdir)):\n",
    "    if file.startswith('Recipe'):\n",
    "        os.rename(file, file.split('(')[0][:-1] + '.html')"
   ]
  }
 ],
 "metadata": {
  "kernelspec": {
   "display_name": "clouds_up_to_date",
   "language": "python",
   "name": "python3"
  },
  "language_info": {
   "codemirror_mode": {
    "name": "ipython",
    "version": 3
   },
   "file_extension": ".py",
   "mimetype": "text/x-python",
   "name": "python",
   "nbconvert_exporter": "python",
   "pygments_lexer": "ipython3",
   "version": "3.12.3"
  }
 },
 "nbformat": 4,
 "nbformat_minor": 2
}
